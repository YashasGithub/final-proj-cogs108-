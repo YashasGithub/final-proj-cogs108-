{
 "cells": [
  {
   "cell_type": "markdown",
   "metadata": {},
   "source": [
    "**If you lost points on the last checkpoint you can get them back by responding to TA/IA feedback**  \n",
    "\n",
    "Update/change the relevant sections where you lost those points, make sure you respond on GitHub Issues to your TA/IA to call their attention to the changes you made here.\n",
    "\n",
    "Please update your Timeline... no battle plan survives contact with the enemy, so make sure we understand how your plans have changed."
   ]
  },
  {
   "cell_type": "markdown",
   "metadata": {},
   "source": [
    "# COGS 108 - Data Checkpoint"
   ]
  },
  {
   "cell_type": "markdown",
   "metadata": {},
   "source": [
    "# Names\n",
    "\n",
    "- Imraan Arbab\n",
    "- Huu Pham\n",
    "- Wilson Sugiarto\n",
    "- Jude Dimes\n",
    "- Yashas Chandrasekharan"
   ]
  },
  {
   "cell_type": "markdown",
   "metadata": {},
   "source": [
    "# Research Question"
   ]
  },
  {
   "cell_type": "markdown",
   "metadata": {},
   "source": [
    "To what extent do parental education levels impact a student's performance in math and reading, and how does the influence differ between the mother’s and father’s education levels?"
   ]
  },
  {
   "cell_type": "markdown",
   "metadata": {},
   "source": [
    "## Background and Prior Work"
   ]
  },
  {
   "cell_type": "markdown",
   "metadata": {},
   "source": [
    "Research has long shown that a parent's education level can impact a child’s academic success, especially in subjects like math and language skills. Studies indicate that parents’ educational backgrounds often reflect their socioeconomic status, which in turn shapes their children’s access to educational opportunities. \n",
    "A study by Li and Qiu (2018) in China found that family background influences children’s academic achievements. Parents with higher education levels are generally part of higher socioeconomic backgrounds, which provides access to better resources. As a result, their children benefit from these opportunities, often leading to better academic performance. For example, students in urban areas, who tend to come from higher socioeconomic backgrounds, often outperform students in rural areas, highlighting a link between socioeconomic status and educational access.\n",
    "Another study by Alibrahim and Taifour (2023) in Bahrain looked at how a mother’s education impacts primary school students’ performance. This study found that most mothers held either a secondary diploma (42%) or a university degree (34%), but this variation in education level did not directly correlate with the students' GPAs. Instead, the study noted that 76% of students relied on their mothers for school support, showing that a mother’s involvement and support were more influential than her educational background alone. This suggests that while a parent's level of education can help provide resources, the time and attention a parent gives can play an even bigger role in a child’s learning and academic success.\n",
    "Together, these studies highlight that both the resources parents provide and the time they invest in their children’s education are essential. In our project, we will build on this research to explore the distinct roles of both mothers' and fathers' education levels in children’s academic performance, particularly in math and language skills. Our goal is to better understand how different types of parental involvement impact learning, which may help inform strategies for parental engagement to support student success. \n",
    "\n",
    "\n",
    "1. <a name=\"cite_note-1\"></a> [^](#cite_ref-1) Li, Zhonglu, and Zeqi Qiu. “How Does Family Background Affect Children’s Educational Achievement? Evidence From Contemporary China.” The Journal of Chinese Sociology 5, no. 1 (October 2, 2018). https://doi.org/10.1186/s40711-018-0083-8. \n",
    "2. <a name=\"cite_note-2\"></a> [^](#cite_ref-2) Alibraheim, Essa, and Enas Taifour. “The Relationship Between Mothers’ Educational Levels and Their Children’s Academic Performance.” Pegem Journal of Education and Instruction 13, no. 3 (January 1, 2023). https://doi.org/10.47750/pegegog.13.03.04. \n",
    "\n"
   ]
  },
  {
   "cell_type": "markdown",
   "metadata": {},
   "source": [
    "# Hypothesis\n"
   ]
  },
  {
   "cell_type": "markdown",
   "metadata": {},
   "source": [
    "There are two parts to our hypothesis:\n",
    "\n",
    "1. Overall Impact of Parental Education: We hypothesize that higher parental education levels are associated with better student performance in math and reading, as parents with more education are more likely to provide academic support and encouragement.\n",
    "\n",
    "2. Comparative Impact of Mother’s vs. Father’s Education: We predict that the mother’s education level will have a slightly greater impact on a student’s performance in these subjects, due to potential differences in parental involvement and support."
   ]
  },
  {
   "cell_type": "markdown",
   "metadata": {},
   "source": [
    "# Data"
   ]
  },
  {
   "cell_type": "markdown",
   "metadata": {},
   "source": [
    "Dataset #1:\n",
    "\n",
    "Dataset Name: Math course\n",
    "\n",
    "Link to the dataset: https://www.kaggle.com/datasets/whenamancodes/student-performance/data?select=Maths.csv\n",
    "\n",
    "Number of observations: 398\n",
    "\n",
    "Number of variables: 33\n",
    "\n",
    "Dataset #2\n",
    "\n",
    "Dataset Name: Portuguese Language course\n",
    "\n",
    "Link to the dataset: https://www.kaggle.com/datasets/whenamancodes/student-performance/data?select=Portuguese.csv\n",
    "\n",
    "Number of observations: 652\n",
    "\n",
    "Number of variables: 33\n",
    "\n",
    "Both datasets, Maths.csv and Portuguese.csv, contain many points of information about each student. Some of the important ones include the basic informative variables like age, gender, school, parental education, etc, but also includes broader information like family size, parental cohabitation status, educational support statuses. Most of these variables are organized binarily, with LE3 (less than 3 members) and GT3 (greater than 3 members) as an example for family size. The datasets also include support variables that are either measured in numeric intervals, like weekly study time or quality of family relationships, binary variables like extracurricular involvement or internet access, and nominal variables like a student’s guardian or parental occupation. For the purposes of data wrangling, we will go through the process of addressing any missing or inconsistent data by filling or correcting these values based on the context. Binary variables like 'schoolsup' and 'famsup' will be converted from 'yes'/'no' to numeric binary format (0 or 1) for analytical consistency. Outliers will be identified using statistical thresholds and treated accordingly to minimize their impact on analyses. Duplicate entries will be removed to ensure data integrity. When combining multiple datasets, we will align the columns to ensure consistency in data types and structures. The datasets will be merged based on student identifiers or aligned based on their indexes if direct identifiers are absent.\n"
   ]
  },
  {
   "cell_type": "markdown",
   "metadata": {},
   "source": [
    "## Math Scores Dataset"
   ]
  },
  {
   "cell_type": "code",
   "execution_count": 1,
   "metadata": {},
   "outputs": [
    {
     "name": "stdout",
     "output_type": "stream",
     "text": [
      "  school sex  age address famsize Pstatus  Medu  Fedu     Mjob      Fjob  ...  \\\n",
      "0     GP   F   18       U     GT3       A     4     4  at_home   teacher  ...   \n",
      "1     GP   F   17       U     GT3       T     1     1  at_home     other  ...   \n",
      "2     GP   F   15       U     LE3       T     1     1  at_home     other  ...   \n",
      "3     GP   F   15       U     GT3       T     4     2   health  services  ...   \n",
      "4     GP   F   16       U     GT3       T     3     3    other     other  ...   \n",
      "\n",
      "  famrel freetime  goout  Dalc  Walc health absences  G1  G2  G3  \n",
      "0      4        3      4     1     1      3        6   5   6   6  \n",
      "1      5        3      3     1     1      3        4   5   5   6  \n",
      "2      4        3      2     2     3      3       10   7   8  10  \n",
      "3      3        2      2     1     1      5        2  15  14  15  \n",
      "4      4        3      2     1     2      5        4   6  10  10  \n",
      "\n",
      "[5 rows x 33 columns]\n"
     ]
    }
   ],
   "source": [
    "import pandas as pd\n",
    "import numpy as np\n",
    "import matplotlib.pyplot as plt\n",
    "\n",
    "df = pd.read_csv('https://raw.githubusercontent.com/COGS108/Group043-FA24/refs/heads/master/Maths.csv?token=GHSAT0AAAAAACUICTULV46AJXZ3R5MWJBKKZZRTEZA')\n",
    "print(df.head())"
   ]
  },
  {
   "cell_type": "code",
   "execution_count": 2,
   "metadata": {},
   "outputs": [
    {
     "data": {
      "text/plain": [
       "(397, 33)"
      ]
     },
     "execution_count": 2,
     "metadata": {},
     "output_type": "execute_result"
    }
   ],
   "source": [
    "df.shape"
   ]
  },
  {
   "cell_type": "code",
   "execution_count": 3,
   "metadata": {},
   "outputs": [
    {
     "data": {
      "text/plain": [
       "school        object\n",
       "sex           object\n",
       "age            int64\n",
       "address       object\n",
       "famsize       object\n",
       "Pstatus       object\n",
       "Medu           int64\n",
       "Fedu           int64\n",
       "Mjob          object\n",
       "Fjob          object\n",
       "reason        object\n",
       "guardian      object\n",
       "traveltime     int64\n",
       "studytime      int64\n",
       "failures       int64\n",
       "schoolsup     object\n",
       "famsup        object\n",
       "paid          object\n",
       "activities    object\n",
       "nursery       object\n",
       "higher        object\n",
       "internet      object\n",
       "romantic      object\n",
       "famrel         int64\n",
       "freetime       int64\n",
       "goout          int64\n",
       "Dalc           int64\n",
       "Walc           int64\n",
       "health         int64\n",
       "absences       int64\n",
       "G1             int64\n",
       "G2             int64\n",
       "G3             int64\n",
       "dtype: object"
      ]
     },
     "execution_count": 3,
     "metadata": {},
     "output_type": "execute_result"
    }
   ],
   "source": [
    "df.dtypes"
   ]
  },
  {
   "cell_type": "code",
   "execution_count": 4,
   "metadata": {},
   "outputs": [
    {
     "name": "stdout",
     "output_type": "stream",
     "text": [
      "school        0\n",
      "sex           0\n",
      "age           0\n",
      "address       0\n",
      "famsize       0\n",
      "Pstatus       0\n",
      "Medu          0\n",
      "Fedu          0\n",
      "Mjob          0\n",
      "Fjob          0\n",
      "reason        0\n",
      "guardian      0\n",
      "traveltime    0\n",
      "studytime     0\n",
      "failures      0\n",
      "schoolsup     0\n",
      "famsup        0\n",
      "paid          0\n",
      "activities    0\n",
      "nursery       0\n",
      "higher        0\n",
      "internet      0\n",
      "romantic      0\n",
      "famrel        0\n",
      "freetime      0\n",
      "goout         0\n",
      "Dalc          0\n",
      "Walc          0\n",
      "health        0\n",
      "absences      0\n",
      "G1            0\n",
      "G2            0\n",
      "G3            0\n",
      "dtype: int64\n"
     ]
    }
   ],
   "source": [
    "missing_values = df.isnull().sum()\n",
    "print(missing_values)"
   ]
  },
  {
   "cell_type": "code",
   "execution_count": 5,
   "metadata": {},
   "outputs": [
    {
     "data": {
      "text/html": [
       "<div>\n",
       "<style scoped>\n",
       "    .dataframe tbody tr th:only-of-type {\n",
       "        vertical-align: middle;\n",
       "    }\n",
       "\n",
       "    .dataframe tbody tr th {\n",
       "        vertical-align: top;\n",
       "    }\n",
       "\n",
       "    .dataframe thead th {\n",
       "        text-align: right;\n",
       "    }\n",
       "</style>\n",
       "<table border=\"1\" class=\"dataframe\">\n",
       "  <thead>\n",
       "    <tr style=\"text-align: right;\">\n",
       "      <th></th>\n",
       "      <th>age</th>\n",
       "      <th>Medu</th>\n",
       "      <th>Fedu</th>\n",
       "      <th>traveltime</th>\n",
       "      <th>studytime</th>\n",
       "      <th>failures</th>\n",
       "      <th>famrel</th>\n",
       "      <th>freetime</th>\n",
       "      <th>goout</th>\n",
       "      <th>Dalc</th>\n",
       "      <th>Walc</th>\n",
       "      <th>health</th>\n",
       "      <th>absences</th>\n",
       "      <th>G1</th>\n",
       "      <th>G2</th>\n",
       "      <th>G3</th>\n",
       "    </tr>\n",
       "  </thead>\n",
       "  <tbody>\n",
       "    <tr>\n",
       "      <th>count</th>\n",
       "      <td>397.000000</td>\n",
       "      <td>397.000000</td>\n",
       "      <td>397.000000</td>\n",
       "      <td>397.000000</td>\n",
       "      <td>397.000000</td>\n",
       "      <td>397.000000</td>\n",
       "      <td>397.000000</td>\n",
       "      <td>397.000000</td>\n",
       "      <td>397.000000</td>\n",
       "      <td>397.000000</td>\n",
       "      <td>397.000000</td>\n",
       "      <td>397.000000</td>\n",
       "      <td>397.000000</td>\n",
       "      <td>397.000000</td>\n",
       "      <td>397.000000</td>\n",
       "      <td>397.000000</td>\n",
       "    </tr>\n",
       "    <tr>\n",
       "      <th>mean</th>\n",
       "      <td>16.705290</td>\n",
       "      <td>2.748111</td>\n",
       "      <td>2.521411</td>\n",
       "      <td>1.450882</td>\n",
       "      <td>2.032746</td>\n",
       "      <td>0.335013</td>\n",
       "      <td>3.944584</td>\n",
       "      <td>3.234257</td>\n",
       "      <td>3.108312</td>\n",
       "      <td>1.478589</td>\n",
       "      <td>2.289673</td>\n",
       "      <td>3.556675</td>\n",
       "      <td>5.695214</td>\n",
       "      <td>10.881612</td>\n",
       "      <td>10.687657</td>\n",
       "      <td>10.377834</td>\n",
       "    </tr>\n",
       "    <tr>\n",
       "      <th>std</th>\n",
       "      <td>1.279716</td>\n",
       "      <td>1.097301</td>\n",
       "      <td>1.090672</td>\n",
       "      <td>0.696840</td>\n",
       "      <td>0.838731</td>\n",
       "      <td>0.742714</td>\n",
       "      <td>0.894400</td>\n",
       "      <td>0.996476</td>\n",
       "      <td>1.112762</td>\n",
       "      <td>0.889143</td>\n",
       "      <td>1.286770</td>\n",
       "      <td>1.388967</td>\n",
       "      <td>7.988015</td>\n",
       "      <td>3.333120</td>\n",
       "      <td>3.770322</td>\n",
       "      <td>4.604928</td>\n",
       "    </tr>\n",
       "    <tr>\n",
       "      <th>min</th>\n",
       "      <td>15.000000</td>\n",
       "      <td>0.000000</td>\n",
       "      <td>0.000000</td>\n",
       "      <td>1.000000</td>\n",
       "      <td>1.000000</td>\n",
       "      <td>0.000000</td>\n",
       "      <td>1.000000</td>\n",
       "      <td>1.000000</td>\n",
       "      <td>1.000000</td>\n",
       "      <td>1.000000</td>\n",
       "      <td>1.000000</td>\n",
       "      <td>1.000000</td>\n",
       "      <td>0.000000</td>\n",
       "      <td>3.000000</td>\n",
       "      <td>0.000000</td>\n",
       "      <td>0.000000</td>\n",
       "    </tr>\n",
       "    <tr>\n",
       "      <th>25%</th>\n",
       "      <td>16.000000</td>\n",
       "      <td>2.000000</td>\n",
       "      <td>2.000000</td>\n",
       "      <td>1.000000</td>\n",
       "      <td>1.000000</td>\n",
       "      <td>0.000000</td>\n",
       "      <td>4.000000</td>\n",
       "      <td>3.000000</td>\n",
       "      <td>2.000000</td>\n",
       "      <td>1.000000</td>\n",
       "      <td>1.000000</td>\n",
       "      <td>3.000000</td>\n",
       "      <td>0.000000</td>\n",
       "      <td>8.000000</td>\n",
       "      <td>9.000000</td>\n",
       "      <td>8.000000</td>\n",
       "    </tr>\n",
       "    <tr>\n",
       "      <th>50%</th>\n",
       "      <td>17.000000</td>\n",
       "      <td>3.000000</td>\n",
       "      <td>2.000000</td>\n",
       "      <td>1.000000</td>\n",
       "      <td>2.000000</td>\n",
       "      <td>0.000000</td>\n",
       "      <td>4.000000</td>\n",
       "      <td>3.000000</td>\n",
       "      <td>3.000000</td>\n",
       "      <td>1.000000</td>\n",
       "      <td>2.000000</td>\n",
       "      <td>4.000000</td>\n",
       "      <td>4.000000</td>\n",
       "      <td>11.000000</td>\n",
       "      <td>11.000000</td>\n",
       "      <td>11.000000</td>\n",
       "    </tr>\n",
       "    <tr>\n",
       "      <th>75%</th>\n",
       "      <td>18.000000</td>\n",
       "      <td>4.000000</td>\n",
       "      <td>3.000000</td>\n",
       "      <td>2.000000</td>\n",
       "      <td>2.000000</td>\n",
       "      <td>0.000000</td>\n",
       "      <td>5.000000</td>\n",
       "      <td>4.000000</td>\n",
       "      <td>4.000000</td>\n",
       "      <td>2.000000</td>\n",
       "      <td>3.000000</td>\n",
       "      <td>5.000000</td>\n",
       "      <td>8.000000</td>\n",
       "      <td>13.000000</td>\n",
       "      <td>13.000000</td>\n",
       "      <td>14.000000</td>\n",
       "    </tr>\n",
       "    <tr>\n",
       "      <th>max</th>\n",
       "      <td>22.000000</td>\n",
       "      <td>4.000000</td>\n",
       "      <td>4.000000</td>\n",
       "      <td>4.000000</td>\n",
       "      <td>4.000000</td>\n",
       "      <td>3.000000</td>\n",
       "      <td>5.000000</td>\n",
       "      <td>5.000000</td>\n",
       "      <td>5.000000</td>\n",
       "      <td>5.000000</td>\n",
       "      <td>5.000000</td>\n",
       "      <td>5.000000</td>\n",
       "      <td>75.000000</td>\n",
       "      <td>19.000000</td>\n",
       "      <td>19.000000</td>\n",
       "      <td>20.000000</td>\n",
       "    </tr>\n",
       "  </tbody>\n",
       "</table>\n",
       "</div>"
      ],
      "text/plain": [
       "              age        Medu        Fedu  traveltime   studytime    failures  \\\n",
       "count  397.000000  397.000000  397.000000  397.000000  397.000000  397.000000   \n",
       "mean    16.705290    2.748111    2.521411    1.450882    2.032746    0.335013   \n",
       "std      1.279716    1.097301    1.090672    0.696840    0.838731    0.742714   \n",
       "min     15.000000    0.000000    0.000000    1.000000    1.000000    0.000000   \n",
       "25%     16.000000    2.000000    2.000000    1.000000    1.000000    0.000000   \n",
       "50%     17.000000    3.000000    2.000000    1.000000    2.000000    0.000000   \n",
       "75%     18.000000    4.000000    3.000000    2.000000    2.000000    0.000000   \n",
       "max     22.000000    4.000000    4.000000    4.000000    4.000000    3.000000   \n",
       "\n",
       "           famrel    freetime       goout        Dalc        Walc      health  \\\n",
       "count  397.000000  397.000000  397.000000  397.000000  397.000000  397.000000   \n",
       "mean     3.944584    3.234257    3.108312    1.478589    2.289673    3.556675   \n",
       "std      0.894400    0.996476    1.112762    0.889143    1.286770    1.388967   \n",
       "min      1.000000    1.000000    1.000000    1.000000    1.000000    1.000000   \n",
       "25%      4.000000    3.000000    2.000000    1.000000    1.000000    3.000000   \n",
       "50%      4.000000    3.000000    3.000000    1.000000    2.000000    4.000000   \n",
       "75%      5.000000    4.000000    4.000000    2.000000    3.000000    5.000000   \n",
       "max      5.000000    5.000000    5.000000    5.000000    5.000000    5.000000   \n",
       "\n",
       "         absences          G1          G2          G3  \n",
       "count  397.000000  397.000000  397.000000  397.000000  \n",
       "mean     5.695214   10.881612   10.687657   10.377834  \n",
       "std      7.988015    3.333120    3.770322    4.604928  \n",
       "min      0.000000    3.000000    0.000000    0.000000  \n",
       "25%      0.000000    8.000000    9.000000    8.000000  \n",
       "50%      4.000000   11.000000   11.000000   11.000000  \n",
       "75%      8.000000   13.000000   13.000000   14.000000  \n",
       "max     75.000000   19.000000   19.000000   20.000000  "
      ]
     },
     "execution_count": 5,
     "metadata": {},
     "output_type": "execute_result"
    }
   ],
   "source": [
    "df.describe()"
   ]
  },
  {
   "cell_type": "code",
   "execution_count": 6,
   "metadata": {},
   "outputs": [],
   "source": [
    "# Renaming columns for clarity\n",
    "df.rename(columns={\n",
    "    'Medu': 'mother_education',\n",
    "    'Fedu': 'father_education',\n",
    "    'G3': 'final_grade' ,\n",
    "    'schoolsup': 'extra_school_support',\n",
    "    'famsup': 'family_school_support',\n",
    "    'famrel': 'family_relationship_quality',\n",
    "    'higher': 'wants_higher_ed'  \n",
    "}, inplace=True)"
   ]
  },
  {
   "cell_type": "code",
   "execution_count": 7,
   "metadata": {},
   "outputs": [],
   "source": [
    "# Columns potentially not needed. Dropped grades for the first two periods and focused solely on the final grade at \n",
    "# the end of the school year to capture the most comprehensive measure of student performance \n",
    "# ensuring that the analysis reflects the cumulative result of educational progress.\n",
    "df.drop(['school','famsize', 'reason', 'activities', 'romantic', 'Dalc', 'Walc', 'goout', 'health', 'G1', 'G2'], axis=1, inplace=True)"
   ]
  },
  {
   "cell_type": "code",
   "execution_count": 8,
   "metadata": {},
   "outputs": [],
   "source": [
    "# Removing outliers\n",
    "absences_threshold = df['absences'].quantile(0.95)\n",
    "df = df[df['absences'] <= absences_threshold]"
   ]
  },
  {
   "cell_type": "code",
   "execution_count": 9,
   "metadata": {},
   "outputs": [],
   "source": [
    "# Convert binary variables properly\n",
    "binary_columns = ['extra_school_support', 'family_school_support', 'paid', 'nursery', 'wants_higher_ed', 'internet']\n",
    "for col in binary_columns:\n",
    "    df[col] = df[col].map({'no': 0, 'yes': 1}).fillna(0)"
   ]
  },
  {
   "cell_type": "code",
   "execution_count": 10,
   "metadata": {},
   "outputs": [
    {
     "name": "stdout",
     "output_type": "stream",
     "text": [
      "Data after cleaning:\n",
      "  sex  age address Pstatus  mother_education  father_education     Mjob  \\\n",
      "0   F   18       U       A                 4                 4  at_home   \n",
      "1   F   17       U       T                 1                 1  at_home   \n",
      "2   F   15       U       T                 1                 1  at_home   \n",
      "3   F   15       U       T                 4                 2   health   \n",
      "4   F   16       U       T                 3                 3    other   \n",
      "\n",
      "       Fjob guardian  traveltime  ...  extra_school_support  \\\n",
      "0   teacher   mother           2  ...                     1   \n",
      "1     other   father           1  ...                     0   \n",
      "2     other   mother           1  ...                     1   \n",
      "3  services   mother           1  ...                     0   \n",
      "4     other   father           1  ...                     0   \n",
      "\n",
      "   family_school_support  paid  nursery  wants_higher_ed  internet  \\\n",
      "0                      0     0        1                1         0   \n",
      "1                      1     0        0                1         1   \n",
      "2                      0     1        1                1         1   \n",
      "3                      1     1        1                1         1   \n",
      "4                      1     1        1                1         0   \n",
      "\n",
      "   family_relationship_quality  freetime  absences  final_grade  \n",
      "0                            4         3         6            6  \n",
      "1                            5         3         4            6  \n",
      "2                            4         3        10           10  \n",
      "3                            3         2         2           15  \n",
      "4                            4         3         4           10  \n",
      "\n",
      "[5 rows x 22 columns]\n",
      "<class 'pandas.core.frame.DataFrame'>\n",
      "Index: 377 entries, 0 to 396\n",
      "Data columns (total 22 columns):\n",
      " #   Column                       Non-Null Count  Dtype \n",
      "---  ------                       --------------  ----- \n",
      " 0   sex                          377 non-null    object\n",
      " 1   age                          377 non-null    int64 \n",
      " 2   address                      377 non-null    object\n",
      " 3   Pstatus                      377 non-null    object\n",
      " 4   mother_education             377 non-null    int64 \n",
      " 5   father_education             377 non-null    int64 \n",
      " 6   Mjob                         377 non-null    object\n",
      " 7   Fjob                         377 non-null    object\n",
      " 8   guardian                     377 non-null    object\n",
      " 9   traveltime                   377 non-null    int64 \n",
      " 10  studytime                    377 non-null    int64 \n",
      " 11  failures                     377 non-null    int64 \n",
      " 12  extra_school_support         377 non-null    int64 \n",
      " 13  family_school_support        377 non-null    int64 \n",
      " 14  paid                         377 non-null    int64 \n",
      " 15  nursery                      377 non-null    int64 \n",
      " 16  wants_higher_ed              377 non-null    int64 \n",
      " 17  internet                     377 non-null    int64 \n",
      " 18  family_relationship_quality  377 non-null    int64 \n",
      " 19  freetime                     377 non-null    int64 \n",
      " 20  absences                     377 non-null    int64 \n",
      " 21  final_grade                  377 non-null    int64 \n",
      "dtypes: int64(16), object(6)\n",
      "memory usage: 67.7+ KB\n",
      "None\n"
     ]
    }
   ],
   "source": [
    "print(\"Data after cleaning:\")\n",
    "print(df.head())\n",
    "print(df.info())"
   ]
  },
  {
   "cell_type": "markdown",
   "metadata": {},
   "source": [
    "## Portuguese Language Scores Dataset"
   ]
  },
  {
   "cell_type": "code",
   "execution_count": 11,
   "metadata": {},
   "outputs": [
    {
     "name": "stdout",
     "output_type": "stream",
     "text": [
      "  school sex  age address famsize Pstatus  Medu  Fedu     Mjob      Fjob  ...  \\\n",
      "0     GP   F   18       U     GT3       A     4     4  at_home   teacher  ...   \n",
      "1     GP   F   17       U     GT3       T     1     1  at_home     other  ...   \n",
      "2     GP   F   15       U     LE3       T     1     1  at_home     other  ...   \n",
      "3     GP   F   15       U     GT3       T     4     2   health  services  ...   \n",
      "4     GP   F   16       U     GT3       T     3     3    other     other  ...   \n",
      "\n",
      "  famrel freetime  goout  Dalc  Walc health absences  G1  G2  G3  \n",
      "0      4        3      4     1     1      3        4   0  11  11  \n",
      "1      5        3      3     1     1      3        2   9  11  11  \n",
      "2      4        3      2     2     3      3        6  12  13  12  \n",
      "3      3        2      2     1     1      5        0  14  14  14  \n",
      "4      4        3      2     1     2      5        0  11  13  13  \n",
      "\n",
      "[5 rows x 33 columns]\n"
     ]
    }
   ],
   "source": [
    "## YOUR CODE TO LOAD/CLEAN/TIDY/WRANGLE THE DATA GOES HERE\n",
    "df1 = pd.read_csv('https://raw.githubusercontent.com/COGS108/Group043-FA24/refs/heads/master/Portuguese.csv?token=GHSAT0AAAAAACUICTULKIZO5NJJEOPFLDJQZZRTFOQ')\n",
    "print(df1.head())"
   ]
  },
  {
   "cell_type": "code",
   "execution_count": 12,
   "metadata": {},
   "outputs": [
    {
     "data": {
      "text/plain": [
       "(651, 33)"
      ]
     },
     "execution_count": 12,
     "metadata": {},
     "output_type": "execute_result"
    }
   ],
   "source": [
    "df1.shape"
   ]
  },
  {
   "cell_type": "code",
   "execution_count": 13,
   "metadata": {},
   "outputs": [
    {
     "data": {
      "text/plain": [
       "school        object\n",
       "sex           object\n",
       "age            int64\n",
       "address       object\n",
       "famsize       object\n",
       "Pstatus       object\n",
       "Medu           int64\n",
       "Fedu           int64\n",
       "Mjob          object\n",
       "Fjob          object\n",
       "reason        object\n",
       "guardian      object\n",
       "traveltime     int64\n",
       "studytime      int64\n",
       "failures       int64\n",
       "schoolsup     object\n",
       "famsup        object\n",
       "paid          object\n",
       "activities    object\n",
       "nursery       object\n",
       "higher        object\n",
       "internet      object\n",
       "romantic      object\n",
       "famrel         int64\n",
       "freetime       int64\n",
       "goout          int64\n",
       "Dalc           int64\n",
       "Walc           int64\n",
       "health         int64\n",
       "absences       int64\n",
       "G1             int64\n",
       "G2             int64\n",
       "G3             int64\n",
       "dtype: object"
      ]
     },
     "execution_count": 13,
     "metadata": {},
     "output_type": "execute_result"
    }
   ],
   "source": [
    "df1.dtypes"
   ]
  },
  {
   "cell_type": "code",
   "execution_count": 14,
   "metadata": {},
   "outputs": [
    {
     "name": "stdout",
     "output_type": "stream",
     "text": [
      "school        0\n",
      "sex           0\n",
      "age           0\n",
      "address       0\n",
      "famsize       0\n",
      "Pstatus       0\n",
      "Medu          0\n",
      "Fedu          0\n",
      "Mjob          0\n",
      "Fjob          0\n",
      "reason        0\n",
      "guardian      0\n",
      "traveltime    0\n",
      "studytime     0\n",
      "failures      0\n",
      "schoolsup     0\n",
      "famsup        0\n",
      "paid          0\n",
      "activities    0\n",
      "nursery       0\n",
      "higher        0\n",
      "internet      0\n",
      "romantic      0\n",
      "famrel        0\n",
      "freetime      0\n",
      "goout         0\n",
      "Dalc          0\n",
      "Walc          0\n",
      "health        0\n",
      "absences      0\n",
      "G1            0\n",
      "G2            0\n",
      "G3            0\n",
      "dtype: int64\n"
     ]
    }
   ],
   "source": [
    "missing_values = df1.isnull().sum()\n",
    "print(missing_values)"
   ]
  },
  {
   "cell_type": "code",
   "execution_count": 15,
   "metadata": {},
   "outputs": [
    {
     "data": {
      "text/html": [
       "<div>\n",
       "<style scoped>\n",
       "    .dataframe tbody tr th:only-of-type {\n",
       "        vertical-align: middle;\n",
       "    }\n",
       "\n",
       "    .dataframe tbody tr th {\n",
       "        vertical-align: top;\n",
       "    }\n",
       "\n",
       "    .dataframe thead th {\n",
       "        text-align: right;\n",
       "    }\n",
       "</style>\n",
       "<table border=\"1\" class=\"dataframe\">\n",
       "  <thead>\n",
       "    <tr style=\"text-align: right;\">\n",
       "      <th></th>\n",
       "      <th>age</th>\n",
       "      <th>Medu</th>\n",
       "      <th>Fedu</th>\n",
       "      <th>traveltime</th>\n",
       "      <th>studytime</th>\n",
       "      <th>failures</th>\n",
       "      <th>famrel</th>\n",
       "      <th>freetime</th>\n",
       "      <th>goout</th>\n",
       "      <th>Dalc</th>\n",
       "      <th>Walc</th>\n",
       "      <th>health</th>\n",
       "      <th>absences</th>\n",
       "      <th>G1</th>\n",
       "      <th>G2</th>\n",
       "      <th>G3</th>\n",
       "    </tr>\n",
       "  </thead>\n",
       "  <tbody>\n",
       "    <tr>\n",
       "      <th>count</th>\n",
       "      <td>651.000000</td>\n",
       "      <td>651.000000</td>\n",
       "      <td>651.000000</td>\n",
       "      <td>651.000000</td>\n",
       "      <td>651.000000</td>\n",
       "      <td>651.000000</td>\n",
       "      <td>651.000000</td>\n",
       "      <td>651.00000</td>\n",
       "      <td>651.000000</td>\n",
       "      <td>651.000000</td>\n",
       "      <td>651.000000</td>\n",
       "      <td>651.000000</td>\n",
       "      <td>651.000000</td>\n",
       "      <td>651.000000</td>\n",
       "      <td>651.000000</td>\n",
       "      <td>651.000000</td>\n",
       "    </tr>\n",
       "    <tr>\n",
       "      <th>mean</th>\n",
       "      <td>16.745008</td>\n",
       "      <td>2.516129</td>\n",
       "      <td>2.308756</td>\n",
       "      <td>1.569892</td>\n",
       "      <td>1.930876</td>\n",
       "      <td>0.221198</td>\n",
       "      <td>3.930876</td>\n",
       "      <td>3.18126</td>\n",
       "      <td>3.187404</td>\n",
       "      <td>1.500768</td>\n",
       "      <td>2.276498</td>\n",
       "      <td>3.537634</td>\n",
       "      <td>3.654378</td>\n",
       "      <td>11.382488</td>\n",
       "      <td>11.569892</td>\n",
       "      <td>11.904762</td>\n",
       "    </tr>\n",
       "    <tr>\n",
       "      <th>std</th>\n",
       "      <td>1.217609</td>\n",
       "      <td>1.134481</td>\n",
       "      <td>1.100308</td>\n",
       "      <td>0.747889</td>\n",
       "      <td>0.828241</td>\n",
       "      <td>0.592449</td>\n",
       "      <td>0.954253</td>\n",
       "      <td>1.04999</td>\n",
       "      <td>1.174824</td>\n",
       "      <td>0.923830</td>\n",
       "      <td>1.284362</td>\n",
       "      <td>1.445326</td>\n",
       "      <td>4.635853</td>\n",
       "      <td>2.777315</td>\n",
       "      <td>2.909287</td>\n",
       "      <td>3.225880</td>\n",
       "    </tr>\n",
       "    <tr>\n",
       "      <th>min</th>\n",
       "      <td>15.000000</td>\n",
       "      <td>0.000000</td>\n",
       "      <td>0.000000</td>\n",
       "      <td>1.000000</td>\n",
       "      <td>1.000000</td>\n",
       "      <td>0.000000</td>\n",
       "      <td>1.000000</td>\n",
       "      <td>1.00000</td>\n",
       "      <td>1.000000</td>\n",
       "      <td>1.000000</td>\n",
       "      <td>1.000000</td>\n",
       "      <td>1.000000</td>\n",
       "      <td>0.000000</td>\n",
       "      <td>0.000000</td>\n",
       "      <td>0.000000</td>\n",
       "      <td>0.000000</td>\n",
       "    </tr>\n",
       "    <tr>\n",
       "      <th>25%</th>\n",
       "      <td>16.000000</td>\n",
       "      <td>2.000000</td>\n",
       "      <td>1.000000</td>\n",
       "      <td>1.000000</td>\n",
       "      <td>1.000000</td>\n",
       "      <td>0.000000</td>\n",
       "      <td>4.000000</td>\n",
       "      <td>3.00000</td>\n",
       "      <td>2.000000</td>\n",
       "      <td>1.000000</td>\n",
       "      <td>1.000000</td>\n",
       "      <td>2.000000</td>\n",
       "      <td>0.000000</td>\n",
       "      <td>10.000000</td>\n",
       "      <td>10.000000</td>\n",
       "      <td>10.000000</td>\n",
       "    </tr>\n",
       "    <tr>\n",
       "      <th>50%</th>\n",
       "      <td>17.000000</td>\n",
       "      <td>2.000000</td>\n",
       "      <td>2.000000</td>\n",
       "      <td>1.000000</td>\n",
       "      <td>2.000000</td>\n",
       "      <td>0.000000</td>\n",
       "      <td>4.000000</td>\n",
       "      <td>3.00000</td>\n",
       "      <td>3.000000</td>\n",
       "      <td>1.000000</td>\n",
       "      <td>2.000000</td>\n",
       "      <td>4.000000</td>\n",
       "      <td>2.000000</td>\n",
       "      <td>11.000000</td>\n",
       "      <td>11.000000</td>\n",
       "      <td>12.000000</td>\n",
       "    </tr>\n",
       "    <tr>\n",
       "      <th>75%</th>\n",
       "      <td>18.000000</td>\n",
       "      <td>4.000000</td>\n",
       "      <td>3.000000</td>\n",
       "      <td>2.000000</td>\n",
       "      <td>2.000000</td>\n",
       "      <td>0.000000</td>\n",
       "      <td>5.000000</td>\n",
       "      <td>4.00000</td>\n",
       "      <td>4.000000</td>\n",
       "      <td>2.000000</td>\n",
       "      <td>3.000000</td>\n",
       "      <td>5.000000</td>\n",
       "      <td>6.000000</td>\n",
       "      <td>13.000000</td>\n",
       "      <td>13.000000</td>\n",
       "      <td>14.000000</td>\n",
       "    </tr>\n",
       "    <tr>\n",
       "      <th>max</th>\n",
       "      <td>22.000000</td>\n",
       "      <td>4.000000</td>\n",
       "      <td>4.000000</td>\n",
       "      <td>4.000000</td>\n",
       "      <td>4.000000</td>\n",
       "      <td>3.000000</td>\n",
       "      <td>5.000000</td>\n",
       "      <td>5.00000</td>\n",
       "      <td>5.000000</td>\n",
       "      <td>5.000000</td>\n",
       "      <td>5.000000</td>\n",
       "      <td>5.000000</td>\n",
       "      <td>32.000000</td>\n",
       "      <td>19.000000</td>\n",
       "      <td>19.000000</td>\n",
       "      <td>19.000000</td>\n",
       "    </tr>\n",
       "  </tbody>\n",
       "</table>\n",
       "</div>"
      ],
      "text/plain": [
       "              age        Medu        Fedu  traveltime   studytime    failures  \\\n",
       "count  651.000000  651.000000  651.000000  651.000000  651.000000  651.000000   \n",
       "mean    16.745008    2.516129    2.308756    1.569892    1.930876    0.221198   \n",
       "std      1.217609    1.134481    1.100308    0.747889    0.828241    0.592449   \n",
       "min     15.000000    0.000000    0.000000    1.000000    1.000000    0.000000   \n",
       "25%     16.000000    2.000000    1.000000    1.000000    1.000000    0.000000   \n",
       "50%     17.000000    2.000000    2.000000    1.000000    2.000000    0.000000   \n",
       "75%     18.000000    4.000000    3.000000    2.000000    2.000000    0.000000   \n",
       "max     22.000000    4.000000    4.000000    4.000000    4.000000    3.000000   \n",
       "\n",
       "           famrel   freetime       goout        Dalc        Walc      health  \\\n",
       "count  651.000000  651.00000  651.000000  651.000000  651.000000  651.000000   \n",
       "mean     3.930876    3.18126    3.187404    1.500768    2.276498    3.537634   \n",
       "std      0.954253    1.04999    1.174824    0.923830    1.284362    1.445326   \n",
       "min      1.000000    1.00000    1.000000    1.000000    1.000000    1.000000   \n",
       "25%      4.000000    3.00000    2.000000    1.000000    1.000000    2.000000   \n",
       "50%      4.000000    3.00000    3.000000    1.000000    2.000000    4.000000   \n",
       "75%      5.000000    4.00000    4.000000    2.000000    3.000000    5.000000   \n",
       "max      5.000000    5.00000    5.000000    5.000000    5.000000    5.000000   \n",
       "\n",
       "         absences          G1          G2          G3  \n",
       "count  651.000000  651.000000  651.000000  651.000000  \n",
       "mean     3.654378   11.382488   11.569892   11.904762  \n",
       "std      4.635853    2.777315    2.909287    3.225880  \n",
       "min      0.000000    0.000000    0.000000    0.000000  \n",
       "25%      0.000000   10.000000   10.000000   10.000000  \n",
       "50%      2.000000   11.000000   11.000000   12.000000  \n",
       "75%      6.000000   13.000000   13.000000   14.000000  \n",
       "max     32.000000   19.000000   19.000000   19.000000  "
      ]
     },
     "execution_count": 15,
     "metadata": {},
     "output_type": "execute_result"
    }
   ],
   "source": [
    "df1.describe()"
   ]
  },
  {
   "cell_type": "code",
   "execution_count": 16,
   "metadata": {},
   "outputs": [],
   "source": [
    "# Renaming columns for clarity\n",
    "df1.rename(columns={\n",
    "    'Medu': 'mother_education',\n",
    "    'Fedu': 'father_education',\n",
    "    'G3': 'final_grade' ,\n",
    "    'schoolsup': 'extra_school_support',\n",
    "    'famsup': 'family_school_support',\n",
    "    'famrel': 'family_relationship_quality',\n",
    "    'higher': 'wants_higher_ed'  \n",
    "}, inplace=True)"
   ]
  },
  {
   "cell_type": "code",
   "execution_count": 17,
   "metadata": {},
   "outputs": [],
   "source": [
    "df1.drop(['school','famsize', 'reason', 'activities', 'romantic', 'Dalc', 'Walc', 'goout', 'health', 'G1', 'G2'], axis=1, inplace=True)"
   ]
  },
  {
   "cell_type": "code",
   "execution_count": 18,
   "metadata": {},
   "outputs": [],
   "source": [
    "absences_threshold = df1['absences'].quantile(0.95)\n",
    "df1 = df1[df1['absences'] <= absences_threshold]"
   ]
  },
  {
   "cell_type": "code",
   "execution_count": 19,
   "metadata": {},
   "outputs": [],
   "source": [
    "# Convert binary variables properly\n",
    "binary_columns = ['extra_school_support', 'family_school_support', 'paid', 'nursery', 'wants_higher_ed', 'internet']\n",
    "for col in binary_columns:\n",
    "    df1[col] = df1[col].map({'no': 0, 'yes': 1}).fillna(0)"
   ]
  },
  {
   "cell_type": "code",
   "execution_count": 20,
   "metadata": {},
   "outputs": [
    {
     "name": "stdout",
     "output_type": "stream",
     "text": [
      "Data after cleaning:\n",
      "  sex  age address Pstatus  mother_education  father_education     Mjob  \\\n",
      "0   F   18       U       A                 4                 4  at_home   \n",
      "1   F   17       U       T                 1                 1  at_home   \n",
      "2   F   15       U       T                 1                 1  at_home   \n",
      "3   F   15       U       T                 4                 2   health   \n",
      "4   F   16       U       T                 3                 3    other   \n",
      "\n",
      "       Fjob guardian  traveltime  ...  extra_school_support  \\\n",
      "0   teacher   mother           2  ...                     1   \n",
      "1     other   father           1  ...                     0   \n",
      "2     other   mother           1  ...                     1   \n",
      "3  services   mother           1  ...                     0   \n",
      "4     other   father           1  ...                     0   \n",
      "\n",
      "   family_school_support  paid  nursery  wants_higher_ed  internet  \\\n",
      "0                      0     0        1                1         0   \n",
      "1                      1     0        0                1         1   \n",
      "2                      0     0        1                1         1   \n",
      "3                      1     0        1                1         1   \n",
      "4                      1     0        1                1         0   \n",
      "\n",
      "   family_relationship_quality  freetime  absences  final_grade  \n",
      "0                            4         3         4           11  \n",
      "1                            5         3         2           11  \n",
      "2                            4         3         6           12  \n",
      "3                            3         2         0           14  \n",
      "4                            4         3         0           13  \n",
      "\n",
      "[5 rows x 22 columns]\n",
      "<class 'pandas.core.frame.DataFrame'>\n",
      "Index: 619 entries, 0 to 650\n",
      "Data columns (total 22 columns):\n",
      " #   Column                       Non-Null Count  Dtype \n",
      "---  ------                       --------------  ----- \n",
      " 0   sex                          619 non-null    object\n",
      " 1   age                          619 non-null    int64 \n",
      " 2   address                      619 non-null    object\n",
      " 3   Pstatus                      619 non-null    object\n",
      " 4   mother_education             619 non-null    int64 \n",
      " 5   father_education             619 non-null    int64 \n",
      " 6   Mjob                         619 non-null    object\n",
      " 7   Fjob                         619 non-null    object\n",
      " 8   guardian                     619 non-null    object\n",
      " 9   traveltime                   619 non-null    int64 \n",
      " 10  studytime                    619 non-null    int64 \n",
      " 11  failures                     619 non-null    int64 \n",
      " 12  extra_school_support         619 non-null    int64 \n",
      " 13  family_school_support        619 non-null    int64 \n",
      " 14  paid                         619 non-null    int64 \n",
      " 15  nursery                      619 non-null    int64 \n",
      " 16  wants_higher_ed              619 non-null    int64 \n",
      " 17  internet                     619 non-null    int64 \n",
      " 18  family_relationship_quality  619 non-null    int64 \n",
      " 19  freetime                     619 non-null    int64 \n",
      " 20  absences                     619 non-null    int64 \n",
      " 21  final_grade                  619 non-null    int64 \n",
      "dtypes: int64(16), object(6)\n",
      "memory usage: 111.2+ KB\n",
      "None\n"
     ]
    }
   ],
   "source": [
    "print(\"Data after cleaning:\")\n",
    "print(df1.head())\n",
    "print(df1.info())"
   ]
  },
  {
   "cell_type": "code",
   "execution_count": 21,
   "metadata": {},
   "outputs": [
    {
     "name": "stdout",
     "output_type": "stream",
     "text": [
      "Courses in the combined dataset:\n",
      "['Math' 'Portuguese']\n"
     ]
    }
   ],
   "source": [
    "# MERGING BOTH DATASETS TOGETHER\n",
    "df['course'] = 'Math'\n",
    "df1['course'] = 'Portuguese'\n",
    "\n",
    "df_combined = pd.concat([df, df1], ignore_index=True)\n",
    "\n",
    "print(\"Courses in the combined dataset:\")\n",
    "print(df_combined['course'].unique())\n"
   ]
  },
  {
   "cell_type": "markdown",
   "metadata": {},
   "source": [
    "# Ethics & Privacy"
   ]
  },
  {
   "cell_type": "markdown",
   "metadata": {},
   "source": [
    "Due to our specific focus, we anticipate sampling bias in our analysis. Using our main dataset, the Portuguese test scores dataset as an example, this data comes from a specific region and thus may not generalize fully to other populations. We aim to observe correlations between variables and document any potential biases identified throughout our analysis process. Privacy breaches are minimized since the dataset is anonymized.\n",
    "\n",
    "Ethical Concerns in Each Step of the Data Science Process\n",
    "\n",
    "Question: Our question is well and clearly posed to investigate the relationships between parental education level and students’ math and language scores. Ethically, there is a risk of reinforcing socioeconomic stereotypes by attributing academic performance solely to parental background. To mitigate this,  we will ensure our analysis acknowledges individual student factors and clarify in our reporting that correlations do not imply causation. This is critical to prevent potential misuse of findings for biased assumptions about students’ abilities based on parental education.\n",
    "\n",
    "Implications:  Besides the implications demonstrated by the relationship of our question with socioeconomic status, schools, policymakers, and educators could benefit from the insights of this research. Schools could offer supplemental programs or resources for students based on their family backgrounds, providing additional support to students who stand to benefit from being availed of academic opportunity. Policymakers could also use this information to intervene using policies that can bridge educational gaps based on family circumstances. However, schools could also maliciously use this information, leading to discrimination or lower expectations for students based on their parents' educational background rather than their individual capabilities.\n",
    "\n",
    "Biases:  We recognize that our dataset focuses on students from Portugal, which may introduce bias in terms of regional socioeconomic and cultural factors. To actively detect bias, we’ll analyze the data for any patterns that may disproportionately reflect these demographics. Additionally, we’ll monitor for biases during analysis by comparing with any other datasets we may include and by running diagnostic checks to ensure fair representation across variables.\n",
    "\n",
    "Informed Consent and Privacy: The dataset mentioned comes from a paper in 2008, whose data has been anonymized meaning that all the names and associations have been removed. Consequently, there are no risks in private data leakages from using this dataset, since there is no information to leak unless the school who provided this information were to publicize their database. We are mindful, however, that while our data is anonymous, the implications of our findings could still impact privacy indirectly if generalized improperly.\n",
    "\n",
    "Transparency and Appeal: : We adopt a “clear-box” approach, making our data sources, methodology, and code available. This enables others to validate or replicate our findings, promoting accountability. Since the data is publicly accessible and anonymized, privacy is preserved without any risk of direct data leaks.\n",
    "\n",
    "Continuous Monitoring: Throughout this project, we will continuously monitor our findings for any unintended biases or patterns that could impact equitable outcomes.  We will also clearly state any limitations of our data and analysis in the final report to guide responsible interpretation by stakeholders. While we cannot control how others use this information, these disclaimers aim to prevent misuse from occurring.\n",
    "\n",
    "Note: The Portuguese dataset discussed in this section can be accessed here: https://www.kaggle.com/datasets/whenamancodes/student-performance/data?select=Portuguese.csv\n"
   ]
  },
  {
   "cell_type": "markdown",
   "metadata": {},
   "source": [
    "# Team Expectations "
   ]
  },
  {
   "cell_type": "markdown",
   "metadata": {},
   "source": [
    "* Open and respectful communication amongst team members, communication will be taking place on the discord server created. The server should be checked daily with prompt responses to any of the tasks/issues addressed in the conversation. \n",
    "* Everyone is involved in every part of the project whether it be them completing their tasks or making decisions. \n",
    "* *Attend all our meetings, going to be done through discord server, and work to complete any work that needs to be done during these meetings in an effective and efficient manner*\n",
    "* Be ready to adapt to any changes that may occur during the project whether it be a teammate slacking off, not meeting deadlines, etc.\n",
    "* Put in your best effort for all of the work assigned.\n",
    "* If there is something that is preventing you from completing your work, communication with the team is necessary in order to accommodate and help you."
   ]
  },
  {
   "cell_type": "markdown",
   "metadata": {},
   "source": [
    "# Project Timeline Proposal"
   ]
  },
  {
   "cell_type": "markdown",
   "metadata": {},
   "source": [
    "| Meeting Date  | Meeting Time| Completed Before Meeting  | Discuss at Meeting |\n",
    "|---|---|---|---|\n",
    "| 11/10  |  8 PM | Finalize wrangling(Imraan); Begin EDA (Wilson)  | Go over the work done, see if any suggestions/improvements are needed and discuss analysis strategy/approaches | \n",
    "| 11/17  |  8 PM |  Complete EDA and initiate analysis discussions (Yashas; Nathan) | Discuss Analysis strategies; Complete project check-in, Go over EDA and make suggestions/changes | \n",
    "| 11/24  | 8 PM  | Complete analysis; Draft results/conclusion/discussion (Jude) | Review project and suggest any changes/edits to project. Discuss how final video will be done|\n",
    "| 12/01  | 8 PM  | Make group video; Finalize/proofread project conclusion and submit report and video (everyone) | Turn in Final Project & Group Project Surveys|"
   ]
  }
 ],
 "metadata": {
  "kernelspec": {
   "display_name": "Python 3 (ipykernel)",
   "language": "python",
   "name": "python3"
  },
  "language_info": {
   "codemirror_mode": {
    "name": "ipython",
    "version": 3
   },
   "file_extension": ".py",
   "mimetype": "text/x-python",
   "name": "python",
   "nbconvert_exporter": "python",
   "pygments_lexer": "ipython3",
   "version": "3.12.4"
  }
 },
 "nbformat": 4,
 "nbformat_minor": 4
}
