{
 "cells": [
  {
   "cell_type": "markdown",
   "metadata": {},
   "source": [
    "# COGS 108 - Project Proposal"
   ]
  },
  {
   "cell_type": "markdown",
   "metadata": {},
   "source": [
    "# Names\n",
    "\n",
    "- Imraan Arbab\n",
    "- Huu Pham\n",
    "- Wilson Sugiarto\n",
    "- Jude Dimes\n",
    "- Yashas Chandrasekharan"
   ]
  },
  {
   "cell_type": "markdown",
   "metadata": {},
   "source": [
    "# Research Question"
   ]
  },
  {
   "cell_type": "markdown",
   "metadata": {},
   "source": [
    "To what extent do parental education levels impact a student's performance in math and reading, and how does the influence differ between the mother’s and father’s education levels?"
   ]
  },
  {
   "cell_type": "markdown",
   "metadata": {},
   "source": [
    "## Background and Prior Work"
   ]
  },
  {
   "cell_type": "markdown",
   "metadata": {},
   "source": [
    "Research has long shown that a parent's education level can impact a child’s academic success, especially in subjects like math and language skills. Studies indicate that parents’ educational backgrounds often reflect their socioeconomic status, which in turn shapes their children’s access to educational opportunities. \n",
    "A study by Li and Qiu (2018) in China found that family background influences children’s academic achievements. Parents with higher education levels are generally part of higher socioeconomic backgrounds, which provides access to better resources. As a result, their children benefit from these opportunities, often leading to better academic performance. For example, students in urban areas, who tend to come from higher socioeconomic backgrounds, often outperform students in rural areas, highlighting a link between socioeconomic status and educational access.\n",
    "Another study by Alibrahim and Taifour (2023) in Bahrain looked at how a mother’s education impacts primary school students’ performance. This study found that most mothers held either a secondary diploma (42%) or a university degree (34%), but this variation in education level did not directly correlate with the students' GPAs. Instead, the study noted that 76% of students relied on their mothers for school support, showing that a mother’s involvement and support were more influential than her educational background alone. This suggests that while a parent's level of education can help provide resources, the time and attention a parent gives can play an even bigger role in a child’s learning and academic success.\n",
    "Together, these studies highlight that both the resources parents provide and the time they invest in their children’s education are essential. In our project, we will build on this research to explore the distinct roles of both mothers' and fathers' education levels in children’s academic performance, particularly in math and language skills. Our goal is to better understand how different types of parental involvement impact learning, which may help inform strategies for parental engagement to support student success. \n",
    "\n",
    "\n",
    "1. <a name=\"cite_note-1\"></a> [^](#cite_ref-1) Li, Zhonglu, and Zeqi Qiu. “How Does Family Background Affect Children’s Educational Achievement? Evidence From Contemporary China.” The Journal of Chinese Sociology 5, no. 1 (October 2, 2018). https://doi.org/10.1186/s40711-018-0083-8. \n",
    "2. <a name=\"cite_note-2\"></a> [^](#cite_ref-2) Alibraheim, Essa, and Enas Taifour. “The Relationship Between Mothers’ Educational Levels and Their Children’s Academic Performance.” Pegem Journal of Education and Instruction 13, no. 3 (January 1, 2023). https://doi.org/10.47750/pegegog.13.03.04. \n",
    "\n"
   ]
  },
  {
   "cell_type": "markdown",
   "metadata": {},
   "source": [
    "# Hypothesis\n"
   ]
  },
  {
   "cell_type": "markdown",
   "metadata": {},
   "source": [
    "There are two parts to our hypothesis:\n",
    "\n",
    "1. Overall Impact of Parental Education: We hypothesize that higher parental education levels are associated with better student performance in math and reading, as parents with more education are more likely to provide academic support and encouragement.\n",
    "\n",
    "2. Comparative Impact of Mother’s vs. Father’s Education: We predict that the mother’s education level will have a slightly greater impact on a student’s performance in these subjects, due to potential differences in parental involvement and support."
   ]
  },
  {
   "cell_type": "markdown",
   "metadata": {},
   "source": [
    "# Data"
   ]
  },
  {
   "cell_type": "markdown",
   "metadata": {},
   "source": [
    "Dataset #1:\n",
    "\n",
    "Dataset Name: Math course\n",
    "\n",
    "Link to the dataset: https://www.kaggle.com/datasets/whenamancodes/student-performance/data?select=Maths.csv\n",
    "\n",
    "Number of observations: 398\n",
    "\n",
    "Number of variables: 33\n",
    "\n",
    "Dataset #2\n",
    "\n",
    "Dataset Name: Portuguese Language course\n",
    "\n",
    "Link to the dataset: https://www.kaggle.com/datasets/whenamancodes/student-performance/data?select=Portuguese.csv\n",
    "\n",
    "Number of observations: 652\n",
    "\n",
    "Number of variables: 33\n",
    "\n",
    "Both datasets, Maths.csv and Portuguese.csv, contain many points of information about each student. Some of the important ones include the basic informative variables like age, gender, school, parental education, etc, but also includes broader information like family size, parental cohabitation status, educational support statuses. Most of these variables are organized binarily, with LE3 (less than 3 members) and GT3 (greater than 3 members) as an example for family size. The datasets also include support variables that are either measured in numeric intervals, like weekly study time or quality of family relationships, binary variables like extracurricular involvement or internet access, and nominal variables like a student’s guardian or parental occupation. For the purposes of data wrangling, we will go through the process of addressing any missing or inconsistent data by filling or correcting these values based on the context. Binary variables like 'schoolsup' and 'famsup' will be converted from 'yes'/'no' to numeric binary format (0 or 1) for analytical consistency. Outliers will be identified using statistical thresholds and treated accordingly to minimize their impact on analyses. Duplicate entries will be removed to ensure data integrity. When combining multiple datasets, we will align the columns to ensure consistency in data types and structures. The datasets will be merged based on student identifiers or aligned based on their indexes if direct identifiers are absent.\n"
   ]
  },
  {
   "cell_type": "markdown",
   "metadata": {},
   "source": [
    "# Ethics & Privacy"
   ]
  },
  {
   "cell_type": "markdown",
   "metadata": {},
   "source": [
    "Due to our specific focus, we anticipate sampling bias in our analysis. Using our main dataset, the Portuguese test scores dataset as an example, this data comes from a specific region and thus may not generalize fully to other populations. We aim to observe correlations between variables and document any potential biases identified throughout our analysis process. Privacy breaches are minimized since the dataset is anonymized.\n",
    "\n",
    "Ethical Concerns in Each Step of the Data Science Process\n",
    "\n",
    "Question: Our question is well and clearly posed to investigate the relationships between parental education level and students’ math and language scores. Ethically, there is a risk of reinforcing socioeconomic stereotypes by attributing academic performance solely to parental background. To mitigate this,  we will ensure our analysis acknowledges individual student factors and clarify in our reporting that correlations do not imply causation. This is critical to prevent potential misuse of findings for biased assumptions about students’ abilities based on parental education.\n",
    "\n",
    "Implications:  Besides the implications demonstrated by the relationship of our question with socioeconomic status, schools, policymakers, and educators could benefit from the insights of this research. Schools could offer supplemental programs or resources for students based on their family backgrounds, providing additional support to students who stand to benefit from being availed of academic opportunity. Policymakers could also use this information to intervene using policies that can bridge educational gaps based on family circumstances. However, schools could also maliciously use this information, leading to discrimination or lower expectations for students based on their parents' educational background rather than their individual capabilities.\n",
    "\n",
    "Biases:  We recognize that our dataset focuses on students from Portugal, which may introduce bias in terms of regional socioeconomic and cultural factors. To actively detect bias, we’ll analyze the data for any patterns that may disproportionately reflect these demographics. Additionally, we’ll monitor for biases during analysis by comparing with any other datasets we may include and by running diagnostic checks to ensure fair representation across variables.\n",
    "\n",
    "Informed Consent and Privacy: The dataset mentioned comes from a paper in 2008, whose data has been anonymized meaning that all the names and associations have been removed. Consequently, there are no risks in private data leakages from using this dataset, since there is no information to leak unless the school who provided this information were to publicize their database. We are mindful, however, that while our data is anonymous, the implications of our findings could still impact privacy indirectly if generalized improperly.\n",
    "\n",
    "Transparency and Appeal: : We adopt a “clear-box” approach, making our data sources, methodology, and code available. This enables others to validate or replicate our findings, promoting accountability. Since the data is publicly accessible and anonymized, privacy is preserved without any risk of direct data leaks.\n",
    "\n",
    "Continuous Monitoring: Throughout this project, we will continuously monitor our findings for any unintended biases or patterns that could impact equitable outcomes.  We will also clearly state any limitations of our data and analysis in the final report to guide responsible interpretation by stakeholders. While we cannot control how others use this information, these disclaimers aim to prevent misuse from occurring.\n",
    "\n",
    "Note: The Portuguese dataset discussed in this section can be accessed here: https://www.kaggle.com/datasets/whenamancodes/student-performance/data?select=Portuguese.csv\n"
   ]
  },
  {
   "cell_type": "markdown",
   "metadata": {},
   "source": [
    "# Team Expectations "
   ]
  },
  {
   "cell_type": "markdown",
   "metadata": {},
   "source": [
    "\n",
    "\n",
    "* Open and respectful communication amongst team members, communication will be taking place on the discord server created. The server should be checked daily with prompt responses to any of the tasks/issues addressed in the conversation. \n",
    "* Everyone is involved in every part of the project whether it be them completing their tasks or making decisions. \n",
    "* *Attend all our meetings, going to be done through discord server, and work to complete any work that needs to be done during these meetings in an effective and efficient manner*\n",
    "* Be ready to adapt to any changes that may occur during the project whether it be a teammate slacking off, not meeting deadlines, etc.\n",
    "* Put in your best effort for all of the work assigned.\n",
    "* If there is something that is preventing you from completing your work, communication with the team is necessary in order to accommodate and help you."
   ]
  },
  {
   "cell_type": "markdown",
   "metadata": {},
   "source": [
    "# Project Timeline Proposal"
   ]
  },
  {
   "cell_type": "markdown",
   "metadata": {},
   "source": [
    "Updated Timeline Proposal\n",
    "| Meeting Date  | Meeting Time| Completed Before Meeting  | Discuss at Meeting |\n",
    "|---|---|---|---|\n",
    "| 11/10  |  8 PM | Finalize wrangling(Imraan); Begin EDA (Wilson)  | Go over the work done, see if any suggestions/improvements are needed and discuss analysis strategy/approaches | \n",
    "| 11/17  |  8 PM |  Complete EDA and initiate analysis discussions (Yashas; Nathan) | Discuss Analysis strategies; Complete project check-in, Go over EDA and make suggestions/changes | \n",
    "| 11/24  | 8 PM  | Complete analysis; Draft results/conclusion/discussion (Jude) | Review project and suggest any changes/edits to project. Discuss how final video will be done|\n",
    "| 12/01  | 8 PM  | Make group video; Finalize/proofread project conclusion and submit report and video (everyone) | Turn in Final Project & Group Project Surveys|"
   ]
  }
 ],
 "metadata": {
  "kernelspec": {
   "display_name": "Python 3 (ipykernel)",
   "language": "python",
   "name": "python3"
  },
  "language_info": {
   "codemirror_mode": {
    "name": "ipython",
    "version": 3
   },
   "file_extension": ".py",
   "mimetype": "text/x-python",
   "name": "python",
   "nbconvert_exporter": "python",
   "pygments_lexer": "ipython3",
   "version": "3.12.4"
  }
 },
 "nbformat": 4,
 "nbformat_minor": 4
}
